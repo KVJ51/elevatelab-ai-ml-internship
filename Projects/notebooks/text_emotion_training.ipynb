{
  "nbformat": 4,
  "nbformat_minor": 0,
  "metadata": {
    "colab": {
      "provenance": []
    },
    "kernelspec": {
      "name": "python3",
      "display_name": "Python 3"
    },
    "language_info": {
      "name": "python"
    }
  },
  "cells": [
    {
      "cell_type": "code",
      "execution_count": 3,
      "metadata": {
        "colab": {
          "base_uri": "https://localhost:8080/"
        },
        "id": "mOztqMlMU3gk",
        "outputId": "d30e62ee-bb95-4129-921d-19805a002d0d"
      },
      "outputs": [
        {
          "output_type": "stream",
          "name": "stdout",
          "text": [
            "Requirement already satisfied: scikit-learn in /usr/local/lib/python3.12/dist-packages (1.6.1)\n",
            "Requirement already satisfied: pandas in /usr/local/lib/python3.12/dist-packages (2.2.2)\n",
            "Requirement already satisfied: joblib in /usr/local/lib/python3.12/dist-packages (1.5.1)\n",
            "Requirement already satisfied: numpy>=1.19.5 in /usr/local/lib/python3.12/dist-packages (from scikit-learn) (2.0.2)\n",
            "Requirement already satisfied: scipy>=1.6.0 in /usr/local/lib/python3.12/dist-packages (from scikit-learn) (1.16.1)\n",
            "Requirement already satisfied: threadpoolctl>=3.1.0 in /usr/local/lib/python3.12/dist-packages (from scikit-learn) (3.6.0)\n",
            "Requirement already satisfied: python-dateutil>=2.8.2 in /usr/local/lib/python3.12/dist-packages (from pandas) (2.9.0.post0)\n",
            "Requirement already satisfied: pytz>=2020.1 in /usr/local/lib/python3.12/dist-packages (from pandas) (2025.2)\n",
            "Requirement already satisfied: tzdata>=2022.7 in /usr/local/lib/python3.12/dist-packages (from pandas) (2025.2)\n",
            "Requirement already satisfied: six>=1.5 in /usr/local/lib/python3.12/dist-packages (from python-dateutil>=2.8.2->pandas) (1.17.0)\n",
            "              precision    recall  f1-score   support\n",
            "\n",
            "       anger       0.93      0.80      0.86       617\n",
            "        fear       0.86      0.79      0.83       531\n",
            "       happy       0.84      0.96      0.90      1381\n",
            "        love       0.90      0.65      0.75       318\n",
            "     sadness       0.88      0.94      0.91      1277\n",
            "    surprise       0.88      0.54      0.67       168\n",
            "\n",
            "    accuracy                           0.87      4292\n",
            "   macro avg       0.88      0.78      0.82      4292\n",
            "weighted avg       0.87      0.87      0.87      4292\n",
            "\n",
            "✅ Model and vectorizer saved!\n"
          ]
        }
      ],
      "source": [
        "# Install dependencies\n",
        "!pip install scikit-learn pandas joblib\n",
        "\n",
        "import pandas as pd\n",
        "from sklearn.model_selection import train_test_split\n",
        "from sklearn.feature_extraction.text import TfidfVectorizer\n",
        "from sklearn.linear_model import LogisticRegression\n",
        "from sklearn.metrics import classification_report\n",
        "import joblib\n",
        "\n",
        "# Load dataset (replace with your file path / Kaggle dataset)\n",
        "df = pd.read_csv(\"text_emotion_dataset.csv\")\n",
        "# Dataset should have columns: 'text', 'emotion'\n",
        "\n",
        "# Split data\n",
        "X = df['Text']\n",
        "y = df['Emotion']\n",
        "X_train, X_test, y_train, y_test = train_test_split(X, y, test_size=0.2, random_state=42)\n",
        "\n",
        "# Vectorize text\n",
        "vectorizer = TfidfVectorizer(max_features=5000)\n",
        "X_train_tfidf = vectorizer.fit_transform(X_train)\n",
        "X_test_tfidf = vectorizer.transform(X_test)\n",
        "\n",
        "# Train model\n",
        "model = LogisticRegression(max_iter=300)\n",
        "model.fit(X_train_tfidf, y_train)\n",
        "\n",
        "# Evaluate\n",
        "y_pred = model.predict(X_test_tfidf)\n",
        "print(classification_report(y_test, y_pred))\n",
        "\n",
        "# Save model + vectorizer\n",
        "joblib.dump(model, \"text_emotion_model.pkl\")\n",
        "joblib.dump(vectorizer, \"vectorizer.pkl\")\n",
        "print(\"✅ Model and vectorizer saved!\")"
      ]
    }
  ]
}